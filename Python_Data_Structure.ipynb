{
  "nbformat": 4,
  "nbformat_minor": 0,
  "metadata": {
    "colab": {
      "provenance": []
    },
    "kernelspec": {
      "name": "python3",
      "display_name": "Python 3"
    },
    "language_info": {
      "name": "python"
    }
  },
  "cells": [
    {
      "cell_type": "markdown",
      "source": [
        "# ***Python-Data-Structure***"
      ],
      "metadata": {
        "id": "rniDedO8SvcF"
      }
    },
    {
      "cell_type": "markdown",
      "source": [
        "1) What are data structures and why are they important ?\n",
        " - data structures are specialized formats for organizing, storing and acessing  collections\n",
        "of data. They provide efficient ways to manage information based on it’s characteristics\n",
        "and intended use. They are important because -\n",
        "\n",
        "               a) Choosing the right data structure significantly impacts the efficeincy and performanc of the program.\n",
        "               b) Well- chosen data structures can.\n",
        "               c) Simplify data manipulation ( adding, removing, modifying elements).\n",
        "               d) Optimize searching and sorting operations.\n",
        "               e) Conserve memory usage.\n",
        "\n",
        "2) Explain the difference between mutable and immutable data types with examples.\n",
        "  - Mutable objects can be modified after they are created. Examples : list, dictionary,set.\n",
        "  -Immutable objects cannot be modified after they are created. Examples : String, tuple.\n",
        "\n",
        "3) What are the main differences between lists and tuples in python ?\n",
        "  - Lists are mutable and enclosed by “[ ]” whereas tuples are immutable and enclosed by “( )” .\n",
        "\n",
        "4) Describe how dictionaries store data.\n",
        "  - Dictionaries in python store data in the form of key-value pair\n",
        "\n",
        "5) Why might you use a set instead of a list in python ?\n",
        "  - We might use a set instead of a list in python as set does not allow duplication of elements.\n",
        "\n",
        "6) What is a string in python and how is it different from a list ?\n",
        "  -   String in python is a sequence of character to represent and manipulated textual data.\n",
        "  It is different from a list as string is immutable and not enclosed by square brackets\n",
        "\n",
        "7) How do tuples ensure data integrity in python?\n",
        "  -   As tuples are immutable, so this characteristic of it ensures data integrity in python.\n",
        "\n",
        "8)  What is a hash table and how does it relate to dictionaries in python ?\n",
        "  - A hash table is a data structure that maps keys to values using a hash function to compute an index into an array of buckets or slots. It relates to dictionaries in python as dictionaries are implemented using hash tables.\n",
        "\n",
        "9) Can lists contain different data types in python?\n",
        "  - Yes, list can contain different data types in python.\n",
        "\n",
        "10)  Explain why strings are immutable in python?\n",
        "  - Strings are immutable in python as after their creation , they cannot be changed. Immutablity helps with performance optimatization, memory efficiency and thread safety.\n",
        "\n",
        "11) What advantages do dictionaries offer over lists for certain tasks ?\n",
        "  - The advantages do dictionaries offer over lists for certain tasks as dictionaries store data in the form of key-value pair and also dictionaries are more readable and descriptive.\n",
        "\n",
        "12) Describe a scenario where using a tuple would be prefferable over a list.\n",
        "  - A tuple would be prefferable over a list as tuple is immutable , so it can be used when the data is constant and should not be accidently modified.\n",
        "\n",
        "13) How do sets handle duplicate values in python ?\n",
        "  - Sets in python handle duplicate values by automatically eliminate duplicate values as all elements in it must be unique.\n",
        "\n",
        "14) How does the “in” keyword work differently for lists and dictionaries ?\n",
        "  - The “in” keyword for list checks if a value exits in the lists whereas “in” checks if a key exits in dictionary (not the value ).\n",
        "\n",
        "15) Can you modify the elements of a tuple ? Explain why or why not.\n",
        "  - Elements of a tuple cannot be modify as tuple is immutable as once they are created , cannot be changed.\n",
        "\n",
        "16) What is nested dictionary and an example of its use cases ?\n",
        "  - Nested dictionary means dictionary inside a dictionary. Example of it’s use case- pupil=\n",
        "{“user1”:{“name”:“A”,“age”:20},“user2”:{“name”:“B”,“age”:24}}\n",
        "\n",
        "17) Describe the time complexity of accessing elements in the dictionary.\n",
        "  - The time complexity of accessing elements in the dictionary is , on average,O(1)\n",
        "\n",
        "18) In what situations are lists preffered over dictionaries ?\n",
        "  - When data naturally fits a sequence ,where order and positional access are important and duplicates are acceptable, in this list is the preffered over dictionary.\n",
        "\n",
        "19) Why are dictionaries considered unordered and how does that affect data retrieval ?\n",
        "  - Dictionaries are considered unordered because items do not have a defined order, cannot refer to an item by using an index. We cannot retrieve the items by using integer indices like my_dict[0] , then we must know the exact key to retrive it’s associated value. Data retrieval is inherently driven by the key.\n",
        "\n",
        "20) Explain the difference between a list and a dictionary in terms of data retrieval.\n",
        "  - A list is an ordered collection of elements,where elements are accessed by using their index(position) and here time complexity is O(1) (constant time). A dictionary is an unordered collection of key-value pairs , where items are accessed using a unique key(not position) and here time complexity is on average is O(1)."
      ],
      "metadata": {
        "id": "01RVcz1jUJDf"
      }
    },
    {
      "cell_type": "code",
      "source": [
        "## 1. Write a code to create a string with your name and print it.\n",
        "my_name = \"Ankush\"\n",
        "print(my_name)"
      ],
      "metadata": {
        "colab": {
          "base_uri": "https://localhost:8080/"
        },
        "id": "XO7-XsN2TNwC",
        "outputId": "a3ec6102-5b05-4341-dc7e-558c23d5cb0e"
      },
      "execution_count": null,
      "outputs": [
        {
          "output_type": "stream",
          "name": "stdout",
          "text": [
            "Ankush\n"
          ]
        }
      ]
    },
    {
      "cell_type": "code",
      "source": [
        "## 2. Write a code to find the length of string \" Hello World\"\n",
        "a =  \"Hello World\"\n",
        "len(a)"
      ],
      "metadata": {
        "colab": {
          "base_uri": "https://localhost:8080/"
        },
        "id": "DufiJuQ8dcQ5",
        "outputId": "96cec70e-920d-4911-ccef-7a9a861e620b"
      },
      "execution_count": null,
      "outputs": [
        {
          "output_type": "execute_result",
          "data": {
            "text/plain": [
              "11"
            ]
          },
          "metadata": {},
          "execution_count": 1
        }
      ]
    },
    {
      "cell_type": "code",
      "source": [
        "## 3. Write a code to slice the first 3 characters from the string \"Python Programming\".\n",
        "\n",
        "a = \"pytho programming\"\n",
        "a[ :3]"
      ],
      "metadata": {
        "colab": {
          "base_uri": "https://localhost:8080/",
          "height": 35
        },
        "id": "Y7lIF9RmDVXE",
        "outputId": "5a9fcecc-73ec-456f-aef6-b983f7936a38"
      },
      "execution_count": null,
      "outputs": [
        {
          "output_type": "execute_result",
          "data": {
            "text/plain": [
              "'pyt'"
            ],
            "application/vnd.google.colaboratory.intrinsic+json": {
              "type": "string"
            }
          },
          "metadata": {},
          "execution_count": 2
        }
      ]
    },
    {
      "cell_type": "code",
      "source": [
        "## 4. Write a code to convert the string \"hello\" to uppercase.\n",
        "a = \"hello\"\n",
        "a.upper()"
      ],
      "metadata": {
        "colab": {
          "base_uri": "https://localhost:8080/",
          "height": 35
        },
        "id": "Wu1rUC--Dypi",
        "outputId": "2e49fc69-ee88-4606-f64e-b841fedff825"
      },
      "execution_count": null,
      "outputs": [
        {
          "output_type": "execute_result",
          "data": {
            "text/plain": [
              "'HELLO'"
            ],
            "application/vnd.google.colaboratory.intrinsic+json": {
              "type": "string"
            }
          },
          "metadata": {},
          "execution_count": 4
        }
      ]
    },
    {
      "cell_type": "code",
      "source": [
        "## 5. Write a code to replace the word \"apple\" with \"orange\" in the string \"I like apple\".\n",
        "b = \" I like apple\"\n",
        "b.replace(\"apple\",\"orange\")"
      ],
      "metadata": {
        "colab": {
          "base_uri": "https://localhost:8080/",
          "height": 35
        },
        "id": "wn6WxZhbFBPh",
        "outputId": "51698e69-a222-4d61-f048-d59079822b7d"
      },
      "execution_count": null,
      "outputs": [
        {
          "output_type": "execute_result",
          "data": {
            "text/plain": [
              "' I like orange'"
            ],
            "application/vnd.google.colaboratory.intrinsic+json": {
              "type": "string"
            }
          },
          "metadata": {},
          "execution_count": 6
        }
      ]
    },
    {
      "cell_type": "code",
      "source": [
        "## 6. Write a code to create a list with numbers 1 to 5 and print it.\n",
        "my_list = [1,2,3,4,5]\n",
        "print(my_list)"
      ],
      "metadata": {
        "colab": {
          "base_uri": "https://localhost:8080/"
        },
        "id": "BSHBeVvfIIcK",
        "outputId": "79d3f528-24cb-4c1f-cbd5-0ab018bf5712"
      },
      "execution_count": null,
      "outputs": [
        {
          "output_type": "stream",
          "name": "stdout",
          "text": [
            "[1, 2, 3, 4, 5]\n"
          ]
        }
      ]
    },
    {
      "cell_type": "code",
      "source": [
        "## 7. Write a code to append the number 10 to the list [1, 2, 3, 4].\n",
        "my_list = [ 1 , 2, 3 , 4]\n",
        "my_list.append(10)\n",
        "print(my_list)"
      ],
      "metadata": {
        "colab": {
          "base_uri": "https://localhost:8080/"
        },
        "id": "UQ1_cfQlJIEv",
        "outputId": "320cbf02-6a6e-4332-8683-a74340f98caa"
      },
      "execution_count": null,
      "outputs": [
        {
          "output_type": "stream",
          "name": "stdout",
          "text": [
            "[1, 2, 3, 4, 10]\n"
          ]
        }
      ]
    },
    {
      "cell_type": "code",
      "source": [
        "## 8. Write a code to remove the number 3 from the list [1, 2, 3, 4, 5].\n",
        "my_list = [1, 2, 3, 4, 5]\n",
        "my_list.remove(3)\n",
        "print(my_list)"
      ],
      "metadata": {
        "colab": {
          "base_uri": "https://localhost:8080/"
        },
        "id": "P-FXhjgoJpJB",
        "outputId": "2276ce42-154a-4a2a-e8bd-8754b4b648d4"
      },
      "execution_count": null,
      "outputs": [
        {
          "output_type": "stream",
          "name": "stdout",
          "text": [
            "[1, 2, 4, 5]\n"
          ]
        }
      ]
    },
    {
      "cell_type": "code",
      "source": [
        "## 9. Write a code to access the second element in the list ['a', 'b', 'c', 'd'].\n",
        "the_list = ['a', 'b', 'c', 'd']\n",
        "the_list[1]"
      ],
      "metadata": {
        "colab": {
          "base_uri": "https://localhost:8080/",
          "height": 35
        },
        "id": "OjNRss3DJ7xZ",
        "outputId": "45d95242-91de-43c4-c9d0-acad98283e35"
      },
      "execution_count": null,
      "outputs": [
        {
          "output_type": "execute_result",
          "data": {
            "text/plain": [
              "'b'"
            ],
            "application/vnd.google.colaboratory.intrinsic+json": {
              "type": "string"
            }
          },
          "metadata": {},
          "execution_count": 10
        }
      ]
    },
    {
      "cell_type": "code",
      "source": [
        "## 10. Write a code to reverse the list [10, 20, 30, 40, 50].\n",
        "lis = [10, 20, 30, 40, 50]\n",
        "lis.reverse()\n",
        "print(lis)\n",
        "\n",
        "## OR\n",
        "\n",
        "# print(lis[::-1])"
      ],
      "metadata": {
        "colab": {
          "base_uri": "https://localhost:8080/"
        },
        "id": "XV2e4ADYKRQE",
        "outputId": "e029b4ef-31f7-4589-d870-2193b9b9cc5a"
      },
      "execution_count": null,
      "outputs": [
        {
          "output_type": "stream",
          "name": "stdout",
          "text": [
            "[50, 40, 30, 20, 10]\n"
          ]
        }
      ]
    },
    {
      "cell_type": "code",
      "source": [
        "## 11. Write a code to create a tuple with the elements 100, 200, 300 and print it.\n",
        "my_tuple = (100,200,300)\n",
        "print(my_tuple)"
      ],
      "metadata": {
        "colab": {
          "base_uri": "https://localhost:8080/"
        },
        "id": "wRGNcIoCKh7s",
        "outputId": "cd2d3928-5a5d-4811-cdf1-b1c1c5386bc3"
      },
      "execution_count": null,
      "outputs": [
        {
          "output_type": "stream",
          "name": "stdout",
          "text": [
            "(100, 200, 300)\n"
          ]
        }
      ]
    },
    {
      "cell_type": "code",
      "source": [
        "## 12.  Write a code to access the second-to-last element of the tuple ('red', 'green', 'blue', 'yellow').\n",
        "c = ('red', 'green', 'blue', 'yellow')\n",
        "c[1:]"
      ],
      "metadata": {
        "colab": {
          "base_uri": "https://localhost:8080/"
        },
        "id": "gbQdFTb8LQY6",
        "outputId": "a9345cf9-2584-4791-91ca-d716a4ca449f"
      },
      "execution_count": null,
      "outputs": [
        {
          "output_type": "execute_result",
          "data": {
            "text/plain": [
              "('green', 'blue', 'yellow')"
            ]
          },
          "metadata": {},
          "execution_count": 19
        }
      ]
    },
    {
      "cell_type": "code",
      "source": [
        "## 13. Write a code to find the minimum number in the tuple (10, 20, 5, 15).\n",
        "a = (10, 20, 5, 15)\n",
        "min(a)"
      ],
      "metadata": {
        "colab": {
          "base_uri": "https://localhost:8080/"
        },
        "id": "htQysRctODZh",
        "outputId": "f519cb04-284d-46c9-f02e-7c86e43d5ea2"
      },
      "execution_count": null,
      "outputs": [
        {
          "output_type": "execute_result",
          "data": {
            "text/plain": [
              "5"
            ]
          },
          "metadata": {},
          "execution_count": 21
        }
      ]
    },
    {
      "cell_type": "code",
      "source": [
        "## 14.  Write a code to find the index of the element \"cat\" in the tuple ('dog', 'cat', 'rabbit').\n",
        "animals = ('dog', 'cat', 'rabbit')\n",
        "animals.index(\"cat\")"
      ],
      "metadata": {
        "colab": {
          "base_uri": "https://localhost:8080/"
        },
        "id": "-BjSB_HqOXmz",
        "outputId": "cfa97a43-030d-4543-d9ed-2cef62c7c460"
      },
      "execution_count": null,
      "outputs": [
        {
          "output_type": "execute_result",
          "data": {
            "text/plain": [
              "1"
            ]
          },
          "metadata": {},
          "execution_count": 23
        }
      ]
    },
    {
      "cell_type": "code",
      "source": [
        "## 15.  Write a code to create a tuple containing three different fruits and check if \"kiwi\" is in it.\n",
        "a = (\"apple\", \"kiwi\", \"orange\")\n",
        "b = (\"apple\", \"mango\",\"orange\")\n",
        "print(\"kiwi in a:\",(\"kiwi\" in a))\n",
        "print(\"kiwi in b:\",(\"kiwi\" in b))"
      ],
      "metadata": {
        "colab": {
          "base_uri": "https://localhost:8080/"
        },
        "id": "pbEtLAjjOygA",
        "outputId": "a64724fb-9762-40ce-c7cb-fe3f59d6e61d"
      },
      "execution_count": null,
      "outputs": [
        {
          "output_type": "stream",
          "name": "stdout",
          "text": [
            "kiwi in a: True\n",
            "kiwi in b: False\n"
          ]
        }
      ]
    },
    {
      "cell_type": "code",
      "source": [
        "## 16. Write a code to create a set with the elements 'a', 'b', 'c' and print it.\n",
        "a = {\"a\", \"b\", \"c\"}\n",
        "print(a)\n",
        "print(type(a))"
      ],
      "metadata": {
        "colab": {
          "base_uri": "https://localhost:8080/"
        },
        "id": "MIh7jryxPnaS",
        "outputId": "6d120106-bb1e-4093-fcbc-fd415f2dc347"
      },
      "execution_count": null,
      "outputs": [
        {
          "output_type": "stream",
          "name": "stdout",
          "text": [
            "{'c', 'a', 'b'}\n",
            "<class 'set'>\n"
          ]
        }
      ]
    },
    {
      "cell_type": "code",
      "source": [
        "## 17. Write a code to clear all elements from the set {1, 2, 3, 4, 5}.\n",
        "my_set = {1, 2, 3, 4, 5}\n",
        "print(\"my_set before clear:\", (my_set))\n",
        "my_set.clear()\n",
        "print(\"my_set after clear:\",(my_set))"
      ],
      "metadata": {
        "colab": {
          "base_uri": "https://localhost:8080/"
        },
        "id": "eCgdQbxERCOn",
        "outputId": "1a9819f1-806b-4734-ac81-a8198847fc8a"
      },
      "execution_count": null,
      "outputs": [
        {
          "output_type": "stream",
          "name": "stdout",
          "text": [
            "my_set before clear: {1, 2, 3, 4, 5}\n",
            "my_set after clear: set()\n"
          ]
        }
      ]
    },
    {
      "cell_type": "code",
      "source": [
        "## 18. Write a code to remove the element 4 from the set {1, 2, 3, 4}.\n",
        "p = {1, 2, 3, 4}\n",
        "p.remove(4)\n",
        "print(p)"
      ],
      "metadata": {
        "colab": {
          "base_uri": "https://localhost:8080/"
        },
        "id": "NgjxUpCHRiPP",
        "outputId": "417d2ccd-7b49-484d-929c-1b97ed8ae994"
      },
      "execution_count": null,
      "outputs": [
        {
          "output_type": "stream",
          "name": "stdout",
          "text": [
            "{1, 2, 3}\n"
          ]
        }
      ]
    },
    {
      "cell_type": "code",
      "source": [
        "## 19. Write a code to find the union of two sets {1, 2, 3} and {3, 4, 5}.\n",
        "a = {1, 2, 3}\n",
        "b = {3, 4, 5}\n",
        "a.union(b)"
      ],
      "metadata": {
        "colab": {
          "base_uri": "https://localhost:8080/"
        },
        "id": "xCM_o8bcRyF6",
        "outputId": "de1727d0-d589-4d3a-fc6f-7d50f70484d4"
      },
      "execution_count": null,
      "outputs": [
        {
          "output_type": "execute_result",
          "data": {
            "text/plain": [
              "{1, 2, 3, 4, 5}"
            ]
          },
          "metadata": {},
          "execution_count": 34
        }
      ]
    },
    {
      "cell_type": "code",
      "source": [
        "## 20. Write a code to find the intersection of two sets {1, 2, 3} and {2, 3, 4}.\n",
        "a = {1, 2, 3}\n",
        "b = {2, 3, 4}\n",
        "a.intersection(b)\n",
        "\n",
        "# or\n",
        "# a & b"
      ],
      "metadata": {
        "colab": {
          "base_uri": "https://localhost:8080/"
        },
        "id": "YNVdSZokSeLT",
        "outputId": "d045aecb-32f2-4621-c61f-74469eaffe9b"
      },
      "execution_count": null,
      "outputs": [
        {
          "output_type": "execute_result",
          "data": {
            "text/plain": [
              "{2, 3}"
            ]
          },
          "metadata": {},
          "execution_count": 35
        }
      ]
    },
    {
      "cell_type": "code",
      "source": [
        "## 21. Write a code to create a dictionary with the keys \"name\", \"age\", and \"city\", and print it.\n",
        "my_dict = { \"name\" : \"Ankush\", \"age\": 25, \"city\": \"Kolkata\"}\n",
        "print(my_dict)"
      ],
      "metadata": {
        "colab": {
          "base_uri": "https://localhost:8080/"
        },
        "id": "SVtdu8cVVzKU",
        "outputId": "837cd3f1-b8aa-45f1-ba34-3d2b28ccbc12"
      },
      "execution_count": null,
      "outputs": [
        {
          "output_type": "stream",
          "name": "stdout",
          "text": [
            "{'name': 'Ankush', 'age': 25, 'city': 'Kolkata'}\n"
          ]
        }
      ]
    },
    {
      "cell_type": "code",
      "source": [
        "## 22. Write a code to add a new key-value pair \"country\": \"USA\" to the dictionary {'name': 'John', 'age': 25}.\n",
        "my_dict = {'name': 'John', 'age': 25}\n",
        "my_dict[\"country\"] = \"USA\"\n",
        "print(my_dict)"
      ],
      "metadata": {
        "colab": {
          "base_uri": "https://localhost:8080/"
        },
        "id": "87njm9NkX68z",
        "outputId": "8540c553-bed7-4870-e77d-292736f41d28"
      },
      "execution_count": null,
      "outputs": [
        {
          "output_type": "stream",
          "name": "stdout",
          "text": [
            "{'name': 'John', 'age': 25, 'country': 'USA'}\n"
          ]
        }
      ]
    },
    {
      "cell_type": "code",
      "source": [
        "## 23.  Write a code to access the value associated with the key \"name\" in the dictionary {'name': 'Alice' , 'age': 30}.\n",
        "my_dict = {'name': 'Alice' , 'age': 30}\n",
        "my_dict['name']"
      ],
      "metadata": {
        "colab": {
          "base_uri": "https://localhost:8080/",
          "height": 35
        },
        "id": "agIxcU-4YRJH",
        "outputId": "1a5148bf-f2be-43f3-dc03-8022fb23e71f"
      },
      "execution_count": null,
      "outputs": [
        {
          "output_type": "execute_result",
          "data": {
            "text/plain": [
              "'Alice'"
            ],
            "application/vnd.google.colaboratory.intrinsic+json": {
              "type": "string"
            }
          },
          "metadata": {},
          "execution_count": 40
        }
      ]
    },
    {
      "cell_type": "code",
      "source": [
        "## 24. Write a code to remove the key \"age\" from the dictionary {'name': 'Bob', 'age': 22, 'city': 'New York'}.\n",
        "my_dict = {'name': 'Bob', 'age': 22, 'city': 'New York'}\n",
        "del my_dict['age']\n",
        "print(my_dict)"
      ],
      "metadata": {
        "colab": {
          "base_uri": "https://localhost:8080/"
        },
        "id": "C9-A0R3RYvyr",
        "outputId": "f3b728ec-9d4d-458a-b4b4-c5df6dbb14a0"
      },
      "execution_count": null,
      "outputs": [
        {
          "output_type": "stream",
          "name": "stdout",
          "text": [
            "{'name': 'Bob', 'city': 'New York'}\n"
          ]
        }
      ]
    },
    {
      "cell_type": "code",
      "source": [
        "## 25. Write a code to check if the key \"city\" exists in the dictionary {'name': 'Alice', 'city': 'Paris'}.\n",
        "my_dict = {'name': 'Alice', 'city': 'Paris'}\n",
        "print(\"city\" in my_dict)"
      ],
      "metadata": {
        "colab": {
          "base_uri": "https://localhost:8080/"
        },
        "id": "k9vr-97bY-a8",
        "outputId": "6b6b866c-dfad-4926-9f80-1514c439c674"
      },
      "execution_count": null,
      "outputs": [
        {
          "output_type": "stream",
          "name": "stdout",
          "text": [
            "True\n"
          ]
        }
      ]
    },
    {
      "cell_type": "code",
      "source": [
        "## 26. Write a code to create a list, a tuple, and a dictionary, and print them all.\n",
        "a = [1,2,3,4]\n",
        "b = ('ab','cd','ef','gh')\n",
        "c = {'course':'DA','duration':'1 year'}\n",
        "print(\"list:\",(a))\n",
        "print(\"tuple:\",(b))\n",
        "print(\"cdictionary:\",(c))\n"
      ],
      "metadata": {
        "colab": {
          "base_uri": "https://localhost:8080/"
        },
        "id": "jiltvTzGebjQ",
        "outputId": "556e4cc0-af72-436e-bdf6-349abfc9550a"
      },
      "execution_count": null,
      "outputs": [
        {
          "output_type": "stream",
          "name": "stdout",
          "text": [
            "list: [1, 2, 3, 4]\n",
            "tuple: ('ab', 'cd', 'ef', 'gh')\n",
            "cdictionary: {'course': 'DA', 'duration': '1 year'}\n"
          ]
        }
      ]
    },
    {
      "cell_type": "code",
      "source": [
        "## 27. Write a code to create a list of 5 random numbers between 1 and 100, sort it in ascending order, and print the result\n",
        "i = [43,11,99,55,3]\n",
        "print(sorted(i))"
      ],
      "metadata": {
        "colab": {
          "base_uri": "https://localhost:8080/"
        },
        "id": "X4yj9iJCgVqG",
        "outputId": "976011d5-cd98-42f2-a9a5-08eac5754d42"
      },
      "execution_count": null,
      "outputs": [
        {
          "output_type": "stream",
          "name": "stdout",
          "text": [
            "[3, 11, 43, 55, 99]\n"
          ]
        }
      ]
    },
    {
      "cell_type": "code",
      "source": [
        "## 28.  Write a code to create a list with strings and print the element at the third index.\n",
        "a = [\"kolkata\", \"delhi\", \"mumbai\", \"goa\", \"bangalor\"]\n",
        "a[3]"
      ],
      "metadata": {
        "colab": {
          "base_uri": "https://localhost:8080/",
          "height": 35
        },
        "id": "3nJxamt6knfe",
        "outputId": "cd4231a6-4078-44ed-f9b9-bd75687a6acb"
      },
      "execution_count": null,
      "outputs": [
        {
          "output_type": "execute_result",
          "data": {
            "text/plain": [
              "'goa'"
            ],
            "application/vnd.google.colaboratory.intrinsic+json": {
              "type": "string"
            }
          },
          "metadata": {},
          "execution_count": 51
        }
      ]
    },
    {
      "cell_type": "code",
      "source": [
        "## 29. Write a code to combine two dictionaries into one and print the result.\n",
        "a_dict = {\"my_name\": \"Ankush\", \"my_age\": 25}\n",
        "b_dict = {\"city\": \"kolkata\", \"course\": \"DA\"}\n",
        "a_dict.update(b_dict)\n",
        "print(\"Combined dictionary:\",(a_dict))\n"
      ],
      "metadata": {
        "colab": {
          "base_uri": "https://localhost:8080/"
        },
        "id": "mMfUjt9bmu_n",
        "outputId": "f8e8895f-59fe-49e2-eceb-52f90d1bce16"
      },
      "execution_count": null,
      "outputs": [
        {
          "output_type": "stream",
          "name": "stdout",
          "text": [
            "Combined dictionary: {'my_name': 'Ankush', 'my_age': 25, 'city': 'kolkata', 'course': 'DA'}\n"
          ]
        }
      ]
    },
    {
      "cell_type": "code",
      "source": [
        "## 30.  Write a code to convert a list of strings into a set.\n",
        "bag = ['potato', 'brinjal', 'tomato', 'pumpkin', 'brinjal']\n",
        "bag1 = set(bag)\n",
        "print(bag1)"
      ],
      "metadata": {
        "colab": {
          "base_uri": "https://localhost:8080/"
        },
        "id": "uRCqW15zx13N",
        "outputId": "88e9f48a-627d-4459-8635-25703cb98098"
      },
      "execution_count": null,
      "outputs": [
        {
          "output_type": "stream",
          "name": "stdout",
          "text": [
            "{'brinjal', 'pumpkin', 'tomato', 'potato'}\n"
          ]
        }
      ]
    },
    {
      "cell_type": "code",
      "source": [],
      "metadata": {
        "id": "octPrp4my0Cc"
      },
      "execution_count": null,
      "outputs": []
    }
  ]
}